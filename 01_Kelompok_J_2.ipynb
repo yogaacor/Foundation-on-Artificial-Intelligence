{
  "nbformat": 4,
  "nbformat_minor": 0,
  "metadata": {
    "colab": {
      "provenance": []
    },
    "kernelspec": {
      "name": "python3",
      "display_name": "Python 3"
    },
    "language_info": {
      "name": "python"
    }
  },
  "cells": [
    {
      "cell_type": "markdown",
      "source": [
        "# - ASSIGNMENT 1 NUMBER 2 BY KELOMPOK J -\n",
        "\n",
        "1.) Yoga Stadion Manahan<br>\n",
        "2.) Bimo Bakso Urat<br>\n",
        "3.) Bagas Mie Ayam Tugu Lilin<br>\n",
        "4.) Nisrina Telkomsel<br>\n",
        "5.) Alifa Torabika Kopi Susu<br>\n",
        "6.) Elvizto Soto Makassar<br>\n",
        "\n",
        "Paper Money: <br>\n",
        "1. Rp 100,000    \n",
        "2. Rp 50,000   \n",
        "3. Rp 20,000   \n",
        "4. Rp 10,000   \n",
        "5. Rp 5,000   \n",
        "6. Rp 2,000\n",
        "<br>\n",
        "\n",
        "Coins: <br>\n",
        "1. Rp 1,000  \n",
        "2. Rp 500  \n",
        "3. Rp 200\n",
        "4. Rp 100  <hr>\n",
        "\n",
        "<i>\n",
        "^To make it easier, we assume that all Rp. 1000 denominations are coins.\n",
        "</i>\n",
        "\n",
        "There are circumstances where the bank must liquidate all customer savings in the form of money, if the customer requests it.\n",
        "And imagine this is happening right now in front of you, help the bank to calculate how many denominations of money are needed.\n",
        "\n",
        "Here is the rule:\n",
        "\n",
        "1. Bank must prioritize the largest denominations first to be issued.\n",
        "2. If there is a balance that cannot be cashed, the bank must inform it.\n",
        "3. Bank must calculate how many number of Paper Money needed and Coins needed.\n",
        "4. Banks can only disburse a maximum amount of 1 billion Rupiah\n",
        "\n",
        "\n",
        "\n",
        "<b>Make a python code that receives an integer number of customer savings from 0 - 1 Billions.</b>\n"
      ],
      "metadata": {
        "id": "v4yL2-lQ9B_E"
      }
    },
    {
      "cell_type": "code",
      "execution_count": null,
      "metadata": {
        "id": "BadZYYvyin7Y",
        "outputId": "4d6ce7c2-07cb-4359-d907-790e38191469",
        "colab": {
          "base_uri": "https://localhost:8080/"
        }
      },
      "outputs": [
        {
          "output_type": "stream",
          "name": "stdout",
          "text": [
            "Enter an Integer: 99\n",
            "You Entered: 99\n"
          ]
        }
      ],
      "source": [
        "# Create command to get input from user, the input should be integer\n",
        "\n",
        "while True:\n",
        "    try:\n",
        "        num = int(input(\"Enter an Integer: \"))\n",
        "        print(\"You Entered:\", num)\n",
        "        break  # Keluar dari loop jika input valid\n",
        "    except ValueError:\n",
        "        print(\"Error: Please Enter a Valid Integer.\\n\")"
      ]
    },
    {
      "cell_type": "code",
      "source": [
        "total_paper = 0\n",
        "total_coins = 0\n",
        "\n",
        "if num > 1000000000:\n",
        "    print(\"Maximum Saving is Rp 1000000000\")\n",
        "elif num < 0:\n",
        "    print(\"Please input the correct number\")\n",
        "else:\n",
        "    num\n",
        "\n",
        "    paper_money = [100000, 50000, 20000, 10000, 5000, 2000]\n",
        "    coins_money = [1000, 500, 200, 100]\n",
        "\n",
        "    sisa = num\n",
        "\n",
        "    for pecahan in paper_money:\n",
        "        banyak_pecahan = sisa // pecahan\n",
        "        sisa = sisa - (pecahan * banyak_pecahan)\n",
        "        total_paper += banyak_pecahan\n",
        "        print(\"Amount of Currency Rp {:,} : {}\".format(pecahan, banyak_pecahan))\n",
        "\n",
        "    for koin in coins_money:\n",
        "        banyak_koin = sisa // koin\n",
        "        sisa = sisa - (koin * banyak_koin)\n",
        "        total_coins += banyak_koin\n",
        "        print(\"Amount of Currency Rp {:,} : {}\".format(koin, banyak_koin))\n",
        "\n",
        "    print(\"\\nTotal Paper Money: \", total_paper)\n",
        "    print(\"Total Coins: \", total_coins)\n",
        "\n",
        "    print(\"\\nCannot be Cashed Out : Rp\", sisa)"
      ],
      "metadata": {
        "colab": {
          "base_uri": "https://localhost:8080/"
        },
        "id": "jC9mLViZi169",
        "outputId": "2f074eb3-b587-4e83-f6e3-29bcfe8c489e"
      },
      "execution_count": null,
      "outputs": [
        {
          "output_type": "stream",
          "name": "stdout",
          "text": [
            "Amount of Currency Rp 100,000 : 0\n",
            "Amount of Currency Rp 50,000 : 0\n",
            "Amount of Currency Rp 20,000 : 0\n",
            "Amount of Currency Rp 10,000 : 0\n",
            "Amount of Currency Rp 5,000 : 0\n",
            "Amount of Currency Rp 2,000 : 0\n",
            "Amount of Currency Rp 1,000 : 0\n",
            "Amount of Currency Rp 500 : 0\n",
            "Amount of Currency Rp 200 : 0\n",
            "Amount of Currency Rp 100 : 0\n",
            "\n",
            "Total Paper Money:  0\n",
            "Total Coins:  0\n",
            "\n",
            "Cannot be Cashed Out : Rp 99\n"
          ]
        }
      ]
    }
  ]
}